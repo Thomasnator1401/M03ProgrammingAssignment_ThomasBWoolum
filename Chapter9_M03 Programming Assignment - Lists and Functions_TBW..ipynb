{
 "cells": [
  {
   "cell_type": "code",
   "execution_count": 2,
   "id": "47619466",
   "metadata": {},
   "outputs": [
    {
     "name": "stdout",
     "output_type": "stream",
     "text": [
      "['Harry', 'Ron', 'Hermione']\n"
     ]
    }
   ],
   "source": [
    "# Define a function called good\n",
    "def good():\n",
    "    # Return the list\n",
    "    return ['Harry', 'Ron', 'Hermione']\n",
    "\n",
    "# Call the function and print the result\n",
    "print(good())\n"
   ]
  },
  {
   "cell_type": "code",
   "execution_count": 4,
   "id": "f92db5dd",
   "metadata": {},
   "outputs": [],
   "source": [
    "# Define a generator function called get_odds\n",
    "def get_odds():\n",
    "    # Loop through the numbers from 0 to 9\n",
    "    for n in range(10):\n",
    "        # If the number is odd, yield it\n",
    "        if n % 2 == 1:\n",
    "            yield n\n"
   ]
  },
  {
   "cell_type": "code",
   "execution_count": 5,
   "id": "6e8fdf5a",
   "metadata": {},
   "outputs": [
    {
     "name": "stdout",
     "output_type": "stream",
     "text": [
      "5\n"
     ]
    }
   ],
   "source": [
    "# Initialize a counter variable\n",
    "count = 0\n",
    "# Loop through the values returned by the get_odds() function\n",
    "for num in get_odds():\n",
    "    # Increment the counter by one\n",
    "    count += 1\n",
    "    # If the counter is equal to three, print the value and break the loop\n",
    "    if count == 3:\n",
    "        print(num)\n",
    "        break\n"
   ]
  },
  {
   "cell_type": "code",
   "execution_count": null,
   "id": "728a9fa8",
   "metadata": {},
   "outputs": [],
   "source": []
  }
 ],
 "metadata": {
  "kernelspec": {
   "display_name": "Python 3 (ipykernel)",
   "language": "python",
   "name": "python3"
  },
  "language_info": {
   "codemirror_mode": {
    "name": "ipython",
    "version": 3
   },
   "file_extension": ".py",
   "mimetype": "text/x-python",
   "name": "python",
   "nbconvert_exporter": "python",
   "pygments_lexer": "ipython3",
   "version": "3.11.5"
  }
 },
 "nbformat": 4,
 "nbformat_minor": 5
}
